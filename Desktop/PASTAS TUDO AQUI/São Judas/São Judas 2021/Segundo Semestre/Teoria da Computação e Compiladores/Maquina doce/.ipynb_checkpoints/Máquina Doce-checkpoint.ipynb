{
 "cells": [
  {
   "cell_type": "code",
   "execution_count": 6,
   "id": "bc2fdf81",
   "metadata": {},
   "outputs": [
    {
     "name": "stdout",
     "output_type": "stream",
     "text": [
      "Adicione suas moedas (entre 0 e 15): 0\n"
     ]
    }
   ],
   "source": [
    "valor = input('Adicione suas moedas (entre 0 e 15): ')\n",
    "valor_int = int(valor)\n",
    "novo_valor_somado = 0"
   ]
  },
  {
   "cell_type": "code",
   "execution_count": 7,
   "id": "ce8c91d9",
   "metadata": {},
   "outputs": [
    {
     "name": "stdout",
     "output_type": "stream",
     "text": [
      "Saldo insuficiente\n",
      "Adicione mais moedas:  2\n",
      "Você só tem 2 moedas, adicione mais para comprar um doce. \n",
      "Saldo insuficiente\n",
      "Adicione mais moedas:  2\n",
      "Você só tem 4 moedas, adicione mais para comprar um doce. \n",
      "Saldo insuficiente\n",
      "Adicione mais moedas:  1\n",
      "Você só tem 5 moedas, adicione mais para comprar um doce. \n",
      "Saldo insuficiente\n",
      "Adicione mais moedas:  1\n",
      "Você só tem 6 moedas, adicione mais para comprar um doce. \n"
     ]
    }
   ],
   "source": [
    "while valor_int < 6:\n",
    "    \n",
    "    if novo_valor_somado == 6:\n",
    "        break \n",
    "    else: \n",
    "         print('Saldo insuficiente')\n",
    "         novo_valor = int(input('Adicione mais moedas:  ')) + valor_int\n",
    "         novo_valor_somado = novo_valor + novo_valor_somado\n",
    "         print('Você tem {} moedas. '.format(novo_valor_somado))  "
   ]
  },
  {
   "cell_type": "code",
   "execution_count": 4,
   "id": "1befc85f",
   "metadata": {},
   "outputs": [
    {
     "name": "stdout",
     "output_type": "stream",
     "text": [
      "digite um valor5\n"
     ]
    }
   ],
   "source": [
    "valor = input('digite um valor')"
   ]
  },
  {
   "cell_type": "code",
   "execution_count": null,
   "id": "df09a5cb",
   "metadata": {},
   "outputs": [],
   "source": []
  }
 ],
 "metadata": {
  "kernelspec": {
   "display_name": "Python 3",
   "language": "python",
   "name": "python3"
  },
  "language_info": {
   "codemirror_mode": {
    "name": "ipython",
    "version": 3
   },
   "file_extension": ".py",
   "mimetype": "text/x-python",
   "name": "python",
   "nbconvert_exporter": "python",
   "pygments_lexer": "ipython3",
   "version": "3.8.8"
  }
 },
 "nbformat": 4,
 "nbformat_minor": 5
}
